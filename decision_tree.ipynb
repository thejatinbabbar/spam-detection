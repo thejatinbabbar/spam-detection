{
  "nbformat": 4,
  "nbformat_minor": 0,
  "metadata": {
    "colab": {
      "name": "decision_tree.ipynb",
      "provenance": [],
      "collapsed_sections": [],
      "mount_file_id": "1Y06mH4P_8Q_Ec2LP8TlHd-C3LruCs8JB",
      "authorship_tag": "ABX9TyO9jnfyqhDyTHwrsGIqalvh"
    },
    "kernelspec": {
      "name": "python3",
      "display_name": "Python 3"
    }
  },
  "cells": [
    {
      "cell_type": "markdown",
      "metadata": {
        "id": "PiVxTWNR9q2T"
      },
      "source": [
        "Importing modules"
      ]
    },
    {
      "cell_type": "code",
      "metadata": {
        "id": "B4MLzqdC1jL2"
      },
      "source": [
        "import os\n",
        "import numpy as np\n",
        "import pandas as pd\n",
        "import matplotlib.pyplot as plt\n",
        "import seaborn as sns\n",
        "from sklearn.preprocessing import LabelEncoder\n",
        "from sklearn.model_selection import train_test_split\n",
        "from sklearn.tree import DecisionTreeClassifier\n",
        "\n",
        "plt.style.use('fivethirtyeight')\n",
        "pd.set_option('display.float_format', lambda x: '%.5f' % x)"
      ],
      "execution_count": 2,
      "outputs": []
    },
    {
      "cell_type": "markdown",
      "metadata": {
        "id": "tEldhFjB90Zx"
      },
      "source": [
        "Importing data"
      ]
    },
    {
      "cell_type": "code",
      "metadata": {
        "id": "axI07gpX188u"
      },
      "source": [
        "data_path = '/content/drive/MyDrive/data_mining/Social_spammers_dataset'\n",
        "\n",
        "users = os.path.join(data_path, 'users')\n",
        "users_features = os.path.join(data_path, 'users_features')\n",
        "\n",
        "coded_ids = pd.read_csv(os.path.join(users,'coded_ids.csv'))\n",
        "coded_ids_labels_train = pd.read_csv(os.path.join(users,'coded_ids_labels_train.csv'))\n",
        "\n",
        "features = pd.read_csv(os.path.join(users_features, 'features.csv'))\n",
        "features_names = pd.read_csv(os.path.join(users_features, 'features_names.txt'), header=None)"
      ],
      "execution_count": 3,
      "outputs": []
    },
    {
      "cell_type": "markdown",
      "metadata": {
        "id": "j1tsV_tn92pG"
      },
      "source": [
        "Viewing datasets"
      ]
    },
    {
      "cell_type": "code",
      "metadata": {
        "colab": {
          "base_uri": "https://localhost:8080/",
          "height": 204
        },
        "id": "1Nj6ZlZjmbnb",
        "outputId": "5d1a8113-61ef-4add-bef2-538b2b6d9c15"
      },
      "source": [
        "coded_ids.head()"
      ],
      "execution_count": 4,
      "outputs": [
        {
          "output_type": "execute_result",
          "data": {
            "text/html": [
              "<div>\n",
              "<style scoped>\n",
              "    .dataframe tbody tr th:only-of-type {\n",
              "        vertical-align: middle;\n",
              "    }\n",
              "\n",
              "    .dataframe tbody tr th {\n",
              "        vertical-align: top;\n",
              "    }\n",
              "\n",
              "    .dataframe thead th {\n",
              "        text-align: right;\n",
              "    }\n",
              "</style>\n",
              "<table border=\"1\" class=\"dataframe\">\n",
              "  <thead>\n",
              "    <tr style=\"text-align: right;\">\n",
              "      <th></th>\n",
              "      <th>coded_id</th>\n",
              "      <th>user_id</th>\n",
              "    </tr>\n",
              "  </thead>\n",
              "  <tbody>\n",
              "    <tr>\n",
              "      <th>0</th>\n",
              "      <td>1</td>\n",
              "      <td>100338945</td>\n",
              "    </tr>\n",
              "    <tr>\n",
              "      <th>1</th>\n",
              "      <td>2</td>\n",
              "      <td>1084425186</td>\n",
              "    </tr>\n",
              "    <tr>\n",
              "      <th>2</th>\n",
              "      <td>3</td>\n",
              "      <td>1110273865</td>\n",
              "    </tr>\n",
              "    <tr>\n",
              "      <th>3</th>\n",
              "      <td>4</td>\n",
              "      <td>1132049448</td>\n",
              "    </tr>\n",
              "    <tr>\n",
              "      <th>4</th>\n",
              "      <td>5</td>\n",
              "      <td>1145742354</td>\n",
              "    </tr>\n",
              "  </tbody>\n",
              "</table>\n",
              "</div>"
            ],
            "text/plain": [
              "   coded_id     user_id\n",
              "0         1   100338945\n",
              "1         2  1084425186\n",
              "2         3  1110273865\n",
              "3         4  1132049448\n",
              "4         5  1145742354"
            ]
          },
          "metadata": {
            "tags": []
          },
          "execution_count": 4
        }
      ]
    },
    {
      "cell_type": "code",
      "metadata": {
        "colab": {
          "base_uri": "https://localhost:8080/",
          "height": 204
        },
        "id": "AlBAmCwumeS0",
        "outputId": "d87170a5-91bf-4fbb-b9b6-598eb02fe9cb"
      },
      "source": [
        "coded_ids_labels_train.head()"
      ],
      "execution_count": 5,
      "outputs": [
        {
          "output_type": "execute_result",
          "data": {
            "text/html": [
              "<div>\n",
              "<style scoped>\n",
              "    .dataframe tbody tr th:only-of-type {\n",
              "        vertical-align: middle;\n",
              "    }\n",
              "\n",
              "    .dataframe tbody tr th {\n",
              "        vertical-align: top;\n",
              "    }\n",
              "\n",
              "    .dataframe thead th {\n",
              "        text-align: right;\n",
              "    }\n",
              "</style>\n",
              "<table border=\"1\" class=\"dataframe\">\n",
              "  <thead>\n",
              "    <tr style=\"text-align: right;\">\n",
              "      <th></th>\n",
              "      <th>coded_id</th>\n",
              "      <th>label</th>\n",
              "    </tr>\n",
              "  </thead>\n",
              "  <tbody>\n",
              "    <tr>\n",
              "      <th>0</th>\n",
              "      <td>1</td>\n",
              "      <td>1</td>\n",
              "    </tr>\n",
              "    <tr>\n",
              "      <th>1</th>\n",
              "      <td>2</td>\n",
              "      <td>0</td>\n",
              "    </tr>\n",
              "    <tr>\n",
              "      <th>2</th>\n",
              "      <td>3</td>\n",
              "      <td>0</td>\n",
              "    </tr>\n",
              "    <tr>\n",
              "      <th>3</th>\n",
              "      <td>4</td>\n",
              "      <td>1</td>\n",
              "    </tr>\n",
              "    <tr>\n",
              "      <th>4</th>\n",
              "      <td>6</td>\n",
              "      <td>0</td>\n",
              "    </tr>\n",
              "  </tbody>\n",
              "</table>\n",
              "</div>"
            ],
            "text/plain": [
              "   coded_id  label\n",
              "0         1      1\n",
              "1         2      0\n",
              "2         3      0\n",
              "3         4      1\n",
              "4         6      0"
            ]
          },
          "metadata": {
            "tags": []
          },
          "execution_count": 5
        }
      ]
    },
    {
      "cell_type": "markdown",
      "metadata": {
        "id": "Z73lrubz98Jh"
      },
      "source": [
        "Joining datasets"
      ]
    },
    {
      "cell_type": "code",
      "metadata": {
        "id": "F8JRml_ay-cr",
        "colab": {
          "base_uri": "https://localhost:8080/",
          "height": 235
        },
        "outputId": "27dec8ab-1374-4ec7-f8c1-877acd82b59a"
      },
      "source": [
        "coded_ids.set_index('coded_id', inplace=True)\n",
        "coded_ids_labels_train.set_index('coded_id', inplace=True)\n",
        "coded_ids = coded_ids.join(coded_ids_labels_train)\n",
        "coded_ids.head()"
      ],
      "execution_count": 6,
      "outputs": [
        {
          "output_type": "execute_result",
          "data": {
            "text/html": [
              "<div>\n",
              "<style scoped>\n",
              "    .dataframe tbody tr th:only-of-type {\n",
              "        vertical-align: middle;\n",
              "    }\n",
              "\n",
              "    .dataframe tbody tr th {\n",
              "        vertical-align: top;\n",
              "    }\n",
              "\n",
              "    .dataframe thead th {\n",
              "        text-align: right;\n",
              "    }\n",
              "</style>\n",
              "<table border=\"1\" class=\"dataframe\">\n",
              "  <thead>\n",
              "    <tr style=\"text-align: right;\">\n",
              "      <th></th>\n",
              "      <th>user_id</th>\n",
              "      <th>label</th>\n",
              "    </tr>\n",
              "    <tr>\n",
              "      <th>coded_id</th>\n",
              "      <th></th>\n",
              "      <th></th>\n",
              "    </tr>\n",
              "  </thead>\n",
              "  <tbody>\n",
              "    <tr>\n",
              "      <th>1</th>\n",
              "      <td>100338945</td>\n",
              "      <td>1.00000</td>\n",
              "    </tr>\n",
              "    <tr>\n",
              "      <th>2</th>\n",
              "      <td>1084425186</td>\n",
              "      <td>0.00000</td>\n",
              "    </tr>\n",
              "    <tr>\n",
              "      <th>3</th>\n",
              "      <td>1110273865</td>\n",
              "      <td>0.00000</td>\n",
              "    </tr>\n",
              "    <tr>\n",
              "      <th>4</th>\n",
              "      <td>1132049448</td>\n",
              "      <td>1.00000</td>\n",
              "    </tr>\n",
              "    <tr>\n",
              "      <th>5</th>\n",
              "      <td>1145742354</td>\n",
              "      <td>nan</td>\n",
              "    </tr>\n",
              "  </tbody>\n",
              "</table>\n",
              "</div>"
            ],
            "text/plain": [
              "             user_id   label\n",
              "coded_id                    \n",
              "1          100338945 1.00000\n",
              "2         1084425186 0.00000\n",
              "3         1110273865 0.00000\n",
              "4         1132049448 1.00000\n",
              "5         1145742354     nan"
            ]
          },
          "metadata": {
            "tags": []
          },
          "execution_count": 6
        }
      ]
    },
    {
      "cell_type": "code",
      "metadata": {
        "colab": {
          "base_uri": "https://localhost:8080/",
          "height": 372
        },
        "id": "HVlONnZwmm-f",
        "outputId": "6d2334d5-dc7d-491d-8a61-09513a5bac42"
      },
      "source": [
        "features.head()"
      ],
      "execution_count": 7,
      "outputs": [
        {
          "output_type": "execute_result",
          "data": {
            "text/html": [
              "<div>\n",
              "<style scoped>\n",
              "    .dataframe tbody tr th:only-of-type {\n",
              "        vertical-align: middle;\n",
              "    }\n",
              "\n",
              "    .dataframe tbody tr th {\n",
              "        vertical-align: top;\n",
              "    }\n",
              "\n",
              "    .dataframe thead th {\n",
              "        text-align: right;\n",
              "    }\n",
              "</style>\n",
              "<table border=\"1\" class=\"dataframe\">\n",
              "  <thead>\n",
              "    <tr style=\"text-align: right;\">\n",
              "      <th></th>\n",
              "      <th>active_tweeting_frequency_per_day</th>\n",
              "      <th>adjusted_nb_of_uses_of_hashtag</th>\n",
              "      <th>adjusted_nb_of_uses_of_mention</th>\n",
              "      <th>adjusted_nb_of_uses_of_sources</th>\n",
              "      <th>adjusted_nb_of_uses_of_url</th>\n",
              "      <th>age</th>\n",
              "      <th>avg_intertweet_times</th>\n",
              "      <th>avg_intertweet_times_seconds</th>\n",
              "      <th>content_duration_days</th>\n",
              "      <th>date_newest_tweet</th>\n",
              "      <th>date_oldest_tweet</th>\n",
              "      <th>default_profile</th>\n",
              "      <th>default_profile_image</th>\n",
              "      <th>diversity_index_of_hashtags</th>\n",
              "      <th>diversity_index_of_mentions</th>\n",
              "      <th>diversity_index_of_sources</th>\n",
              "      <th>diversity_index_of_urls</th>\n",
              "      <th>favourites_count</th>\n",
              "      <th>followees_per_followers_sq</th>\n",
              "      <th>followers_count</th>\n",
              "      <th>followers_count_minus_2002</th>\n",
              "      <th>followers_per_followees</th>\n",
              "      <th>friends_count</th>\n",
              "      <th>friends_count_minus_2002</th>\n",
              "      <th>hashtags_used_on_average</th>\n",
              "      <th>lang</th>\n",
              "      <th>len_description</th>\n",
              "      <th>len_screen_name</th>\n",
              "      <th>max_intertweet_times</th>\n",
              "      <th>max_intertweet_times_seconds</th>\n",
              "      <th>max_nb_characters_per_tweet</th>\n",
              "      <th>max_nb_favourites_per_tweet</th>\n",
              "      <th>max_nb_hashtags_per_tweet</th>\n",
              "      <th>max_nb_hashtags_per_word_in_the_tweet</th>\n",
              "      <th>max_nb_mentions_per_tweet</th>\n",
              "      <th>max_nb_mentions_per_word_in_the_tweet</th>\n",
              "      <th>max_nb_retweets_per_tweet</th>\n",
              "      <th>max_nb_symbols_per_tweet</th>\n",
              "      <th>max_nb_symbols_per_word_in_the_tweet</th>\n",
              "      <th>max_nb_urls_per_tweet</th>\n",
              "      <th>...</th>\n",
              "      <th>replicates</th>\n",
              "      <th>replicates_top_20</th>\n",
              "      <th>reputation</th>\n",
              "      <th>similarity</th>\n",
              "      <th>similarity_top_20</th>\n",
              "      <th>sources_used_on_average</th>\n",
              "      <th>spam_in_screen_name</th>\n",
              "      <th>statuses_count</th>\n",
              "      <th>std_intertweet_times</th>\n",
              "      <th>std_intertweet_times_seconds</th>\n",
              "      <th>std_nb_characters_per_tweet</th>\n",
              "      <th>std_nb_favourites_per_tweet</th>\n",
              "      <th>std_nb_hashtags_per_tweet</th>\n",
              "      <th>std_nb_hashtags_per_word_in_the_tweet</th>\n",
              "      <th>std_nb_mentions_per_tweet</th>\n",
              "      <th>std_nb_mentions_per_word_in_the_tweet</th>\n",
              "      <th>std_nb_retweets_per_tweet</th>\n",
              "      <th>std_nb_symbols_per_tweet</th>\n",
              "      <th>std_nb_symbols_per_word_in_the_tweet</th>\n",
              "      <th>std_nb_urls_per_tweet</th>\n",
              "      <th>std_nb_urls_per_word_in_the_tweet</th>\n",
              "      <th>std_nb_words_per_tweet</th>\n",
              "      <th>temporal_bin_0</th>\n",
              "      <th>temporal_bin_1</th>\n",
              "      <th>temporal_bin_2</th>\n",
              "      <th>temporal_bin_3</th>\n",
              "      <th>temporal_bin_4</th>\n",
              "      <th>temporal_bin_5</th>\n",
              "      <th>temporal_bin_6</th>\n",
              "      <th>temporal_bin_7</th>\n",
              "      <th>time_since_newest_tweet_days</th>\n",
              "      <th>time_since_newest_tweet_months</th>\n",
              "      <th>time_zone</th>\n",
              "      <th>tweeting_frequency_per_day</th>\n",
              "      <th>tweets_with_at_top_20</th>\n",
              "      <th>tweets_with_hashtags_top_20</th>\n",
              "      <th>tweets_with_urls_top_20</th>\n",
              "      <th>urls_used_on_average</th>\n",
              "      <th>user_id</th>\n",
              "      <th>utc_offset</th>\n",
              "    </tr>\n",
              "  </thead>\n",
              "  <tbody>\n",
              "    <tr>\n",
              "      <th>0</th>\n",
              "      <td>0.05500</td>\n",
              "      <td>2.60000</td>\n",
              "      <td>5.30800</td>\n",
              "      <td>21.08700</td>\n",
              "      <td>2.33300</td>\n",
              "      <td>2186</td>\n",
              "      <td>19 days 05:12:37.409091000</td>\n",
              "      <td>1660357.00000</td>\n",
              "      <td>422</td>\n",
              "      <td>26/12/2017 14:45:25</td>\n",
              "      <td>29/10/2016 20:07:42</td>\n",
              "      <td>False</td>\n",
              "      <td>False</td>\n",
              "      <td>1.92300</td>\n",
              "      <td>2.44900</td>\n",
              "      <td>1.09100</td>\n",
              "      <td>2.57100</td>\n",
              "      <td>210</td>\n",
              "      <td>0.00000</td>\n",
              "      <td>2606</td>\n",
              "      <td>604</td>\n",
              "      <td>36.70400</td>\n",
              "      <td>71</td>\n",
              "      <td>-1931</td>\n",
              "      <td>2.50000</td>\n",
              "      <td>ar</td>\n",
              "      <td>2</td>\n",
              "      <td>6</td>\n",
              "      <td>176 days 23:35:57.000000000</td>\n",
              "      <td>15291357.00000</td>\n",
              "      <td>131</td>\n",
              "      <td>1</td>\n",
              "      <td>1</td>\n",
              "      <td>0.09100</td>\n",
              "      <td>2</td>\n",
              "      <td>0.22200</td>\n",
              "      <td>14772</td>\n",
              "      <td>0</td>\n",
              "      <td>0.00000</td>\n",
              "      <td>1</td>\n",
              "      <td>...</td>\n",
              "      <td>1</td>\n",
              "      <td>1.00000</td>\n",
              "      <td>0.97300</td>\n",
              "      <td>0.22700</td>\n",
              "      <td>0.23200</td>\n",
              "      <td>11.50000</td>\n",
              "      <td>nan</td>\n",
              "      <td>11795</td>\n",
              "      <td>47 days 07:09:24.508885000</td>\n",
              "      <td>4086564.50888</td>\n",
              "      <td>28.46342</td>\n",
              "      <td>0.28177</td>\n",
              "      <td>0.41247</td>\n",
              "      <td>0.03600</td>\n",
              "      <td>0.57680</td>\n",
              "      <td>0.06300</td>\n",
              "      <td>3283.63651</td>\n",
              "      <td>0.00000</td>\n",
              "      <td>0.00000</td>\n",
              "      <td>0.43911</td>\n",
              "      <td>0.03900</td>\n",
              "      <td>5.11494</td>\n",
              "      <td>0.00000</td>\n",
              "      <td>0.00000</td>\n",
              "      <td>0.08700</td>\n",
              "      <td>0.00000</td>\n",
              "      <td>0.34800</td>\n",
              "      <td>0.26100</td>\n",
              "      <td>0.26100</td>\n",
              "      <td>0.04300</td>\n",
              "      <td>46</td>\n",
              "      <td>1.53333</td>\n",
              "      <td>Hawaii</td>\n",
              "      <td>5.39600</td>\n",
              "      <td>10</td>\n",
              "      <td>5</td>\n",
              "      <td>5</td>\n",
              "      <td>2.00000</td>\n",
              "      <td>494199648</td>\n",
              "      <td>-36000.00000</td>\n",
              "    </tr>\n",
              "    <tr>\n",
              "      <th>1</th>\n",
              "      <td>154.33300</td>\n",
              "      <td>3.44700</td>\n",
              "      <td>13.16400</td>\n",
              "      <td>463.00000</td>\n",
              "      <td>1.04500</td>\n",
              "      <td>1286</td>\n",
              "      <td>0 days 00:10:33.400433000</td>\n",
              "      <td>633.00000</td>\n",
              "      <td>3</td>\n",
              "      <td>27/12/2014 22:46:34</td>\n",
              "      <td>24/12/2014 13:29:23</td>\n",
              "      <td>True</td>\n",
              "      <td>False</td>\n",
              "      <td>107.61600</td>\n",
              "      <td>35.17100</td>\n",
              "      <td>1.00000</td>\n",
              "      <td>42.08700</td>\n",
              "      <td>1224</td>\n",
              "      <td>0.14300</td>\n",
              "      <td>7</td>\n",
              "      <td>-1995</td>\n",
              "      <td>1.00000</td>\n",
              "      <td>7</td>\n",
              "      <td>-1995</td>\n",
              "      <td>1.54600</td>\n",
              "      <td>en</td>\n",
              "      <td>0</td>\n",
              "      <td>15</td>\n",
              "      <td>0 days 06:08:01.000000000</td>\n",
              "      <td>22081.00000</td>\n",
              "      <td>140</td>\n",
              "      <td>0</td>\n",
              "      <td>14</td>\n",
              "      <td>0.40000</td>\n",
              "      <td>4</td>\n",
              "      <td>0.36400</td>\n",
              "      <td>10535</td>\n",
              "      <td>0</td>\n",
              "      <td>0.00000</td>\n",
              "      <td>1</td>\n",
              "      <td>...</td>\n",
              "      <td>49</td>\n",
              "      <td>0.00000</td>\n",
              "      <td>0.50000</td>\n",
              "      <td>0.28300</td>\n",
              "      <td>0.37400</td>\n",
              "      <td>463.00000</td>\n",
              "      <td>nan</td>\n",
              "      <td>14875</td>\n",
              "      <td>0 days 00:26:36.528837000</td>\n",
              "      <td>1596.52884</td>\n",
              "      <td>30.77279</td>\n",
              "      <td>0.00000</td>\n",
              "      <td>1.84011</td>\n",
              "      <td>0.06900</td>\n",
              "      <td>0.69245</td>\n",
              "      <td>0.04700</td>\n",
              "      <td>1084.81026</td>\n",
              "      <td>0.00000</td>\n",
              "      <td>0.00000</td>\n",
              "      <td>0.29326</td>\n",
              "      <td>0.01900</td>\n",
              "      <td>6.57793</td>\n",
              "      <td>0.05800</td>\n",
              "      <td>0.06000</td>\n",
              "      <td>0.09700</td>\n",
              "      <td>0.07100</td>\n",
              "      <td>0.15100</td>\n",
              "      <td>0.19400</td>\n",
              "      <td>0.20500</td>\n",
              "      <td>0.16200</td>\n",
              "      <td>1141</td>\n",
              "      <td>38.03333</td>\n",
              "      <td>NaN</td>\n",
              "      <td>11.56700</td>\n",
              "      <td>13</td>\n",
              "      <td>6</td>\n",
              "      <td>1</td>\n",
              "      <td>1.02300</td>\n",
              "      <td>2708449765</td>\n",
              "      <td>nan</td>\n",
              "    </tr>\n",
              "    <tr>\n",
              "      <th>2</th>\n",
              "      <td>40.00000</td>\n",
              "      <td>9.93800</td>\n",
              "      <td>8.32900</td>\n",
              "      <td>400.00000</td>\n",
              "      <td>1.00000</td>\n",
              "      <td>2474</td>\n",
              "      <td>0 days 00:39:20.897243000</td>\n",
              "      <td>2361.00000</td>\n",
              "      <td>10</td>\n",
              "      <td>10/02/2018 17:00:37</td>\n",
              "      <td>30/01/2018 19:20:39</td>\n",
              "      <td>False</td>\n",
              "      <td>False</td>\n",
              "      <td>12.88100</td>\n",
              "      <td>57.26900</td>\n",
              "      <td>1.00000</td>\n",
              "      <td>53.00000</td>\n",
              "      <td>305</td>\n",
              "      <td>0.00000</td>\n",
              "      <td>4806</td>\n",
              "      <td>2804</td>\n",
              "      <td>6.67500</td>\n",
              "      <td>720</td>\n",
              "      <td>-1282</td>\n",
              "      <td>2.78300</td>\n",
              "      <td>en</td>\n",
              "      <td>0</td>\n",
              "      <td>14</td>\n",
              "      <td>1 days 18:22:38.000000000</td>\n",
              "      <td>152558.00000</td>\n",
              "      <td>140</td>\n",
              "      <td>10</td>\n",
              "      <td>5</td>\n",
              "      <td>0.17900</td>\n",
              "      <td>8</td>\n",
              "      <td>0.40000</td>\n",
              "      <td>10206</td>\n",
              "      <td>0</td>\n",
              "      <td>0.00000</td>\n",
              "      <td>1</td>\n",
              "      <td>...</td>\n",
              "      <td>12</td>\n",
              "      <td>0.00000</td>\n",
              "      <td>0.87000</td>\n",
              "      <td>0.30700</td>\n",
              "      <td>0.28600</td>\n",
              "      <td>400.00000</td>\n",
              "      <td>nan</td>\n",
              "      <td>87004</td>\n",
              "      <td>0 days 02:52:56.811122000</td>\n",
              "      <td>10376.81112</td>\n",
              "      <td>43.10939</td>\n",
              "      <td>0.61644</td>\n",
              "      <td>0.71944</td>\n",
              "      <td>0.03000</td>\n",
              "      <td>0.80959</td>\n",
              "      <td>0.08100</td>\n",
              "      <td>1172.02273</td>\n",
              "      <td>0.00000</td>\n",
              "      <td>0.00000</td>\n",
              "      <td>0.33903</td>\n",
              "      <td>0.02800</td>\n",
              "      <td>8.28655</td>\n",
              "      <td>0.02000</td>\n",
              "      <td>0.05200</td>\n",
              "      <td>0.02000</td>\n",
              "      <td>0.07700</td>\n",
              "      <td>0.20000</td>\n",
              "      <td>0.15000</td>\n",
              "      <td>0.36200</td>\n",
              "      <td>0.11700</td>\n",
              "      <td>0</td>\n",
              "      <td>0.00000</td>\n",
              "      <td>Riyadh</td>\n",
              "      <td>35.16700</td>\n",
              "      <td>19</td>\n",
              "      <td>2</td>\n",
              "      <td>1</td>\n",
              "      <td>1.00000</td>\n",
              "      <td>293270197</td>\n",
              "      <td>10800.00000</td>\n",
              "    </tr>\n",
              "    <tr>\n",
              "      <th>3</th>\n",
              "      <td>0.33400</td>\n",
              "      <td>2.60000</td>\n",
              "      <td>2.41200</td>\n",
              "      <td>55.28400</td>\n",
              "      <td>36.88500</td>\n",
              "      <td>3220</td>\n",
              "      <td>16 days 16:04:30.509317000</td>\n",
              "      <td>1440271.00000</td>\n",
              "      <td>485</td>\n",
              "      <td>04/07/2011 03:37:09</td>\n",
              "      <td>05/03/2010 06:21:35</td>\n",
              "      <td>True</td>\n",
              "      <td>False</td>\n",
              "      <td>3.84600</td>\n",
              "      <td>7.04900</td>\n",
              "      <td>2.93000</td>\n",
              "      <td>4.22900</td>\n",
              "      <td>0</td>\n",
              "      <td>0.06200</td>\n",
              "      <td>17</td>\n",
              "      <td>-1985</td>\n",
              "      <td>0.94400</td>\n",
              "      <td>18</td>\n",
              "      <td>-1984</td>\n",
              "      <td>2.00000</td>\n",
              "      <td>en</td>\n",
              "      <td>0</td>\n",
              "      <td>10</td>\n",
              "      <td>673 days 21:00:01.000000000</td>\n",
              "      <td>58222801.00000</td>\n",
              "      <td>139</td>\n",
              "      <td>1</td>\n",
              "      <td>2</td>\n",
              "      <td>0.22200</td>\n",
              "      <td>1</td>\n",
              "      <td>0.12500</td>\n",
              "      <td>2</td>\n",
              "      <td>0</td>\n",
              "      <td>0.00000</td>\n",
              "      <td>2</td>\n",
              "      <td>...</td>\n",
              "      <td>22</td>\n",
              "      <td>0.00000</td>\n",
              "      <td>0.48600</td>\n",
              "      <td>0.28800</td>\n",
              "      <td>0.34300</td>\n",
              "      <td>23.14300</td>\n",
              "      <td>nan</td>\n",
              "      <td>163</td>\n",
              "      <td>58 days 12:50:08.084253000</td>\n",
              "      <td>5057408.08425</td>\n",
              "      <td>20.45978</td>\n",
              "      <td>0.07832</td>\n",
              "      <td>0.26507</td>\n",
              "      <td>0.02700</td>\n",
              "      <td>0.30647</td>\n",
              "      <td>0.02200</td>\n",
              "      <td>0.15665</td>\n",
              "      <td>0.00000</td>\n",
              "      <td>0.00000</td>\n",
              "      <td>0.31208</td>\n",
              "      <td>0.05800</td>\n",
              "      <td>4.21523</td>\n",
              "      <td>0.14200</td>\n",
              "      <td>0.14200</td>\n",
              "      <td>0.20400</td>\n",
              "      <td>0.09900</td>\n",
              "      <td>0.05600</td>\n",
              "      <td>0.11100</td>\n",
              "      <td>0.08000</td>\n",
              "      <td>0.16700</td>\n",
              "      <td>2414</td>\n",
              "      <td>80.46667</td>\n",
              "      <td>Pacific Time (US &amp; Canada)</td>\n",
              "      <td>0.05100</td>\n",
              "      <td>0</td>\n",
              "      <td>0</td>\n",
              "      <td>20</td>\n",
              "      <td>2.40000</td>\n",
              "      <td>33046208</td>\n",
              "      <td>-28800.00000</td>\n",
              "    </tr>\n",
              "    <tr>\n",
              "      <th>4</th>\n",
              "      <td>4.49400</td>\n",
              "      <td>0.00000</td>\n",
              "      <td>0.00000</td>\n",
              "      <td>203.38000</td>\n",
              "      <td>1.00000</td>\n",
              "      <td>816</td>\n",
              "      <td>0 days 05:24:08.857143000</td>\n",
              "      <td>19449.00000</td>\n",
              "      <td>89</td>\n",
              "      <td>09/02/2018 12:43:09</td>\n",
              "      <td>11/11/2017 17:08:15</td>\n",
              "      <td>True</td>\n",
              "      <td>False</td>\n",
              "      <td>0.00000</td>\n",
              "      <td>0.00000</td>\n",
              "      <td>1.96700</td>\n",
              "      <td>400.00000</td>\n",
              "      <td>0</td>\n",
              "      <td>0.01000</td>\n",
              "      <td>22</td>\n",
              "      <td>-1980</td>\n",
              "      <td>4.40000</td>\n",
              "      <td>5</td>\n",
              "      <td>-1997</td>\n",
              "      <td>0.00000</td>\n",
              "      <td>ar</td>\n",
              "      <td>0</td>\n",
              "      <td>9</td>\n",
              "      <td>9 days 05:21:55.000000000</td>\n",
              "      <td>796915.00000</td>\n",
              "      <td>140</td>\n",
              "      <td>0</td>\n",
              "      <td>0</td>\n",
              "      <td>0.00000</td>\n",
              "      <td>0</td>\n",
              "      <td>0.00000</td>\n",
              "      <td>0</td>\n",
              "      <td>0</td>\n",
              "      <td>0.00000</td>\n",
              "      <td>1</td>\n",
              "      <td>...</td>\n",
              "      <td>154</td>\n",
              "      <td>3.00000</td>\n",
              "      <td>0.81500</td>\n",
              "      <td>0.36200</td>\n",
              "      <td>0.38000</td>\n",
              "      <td>200.00000</td>\n",
              "      <td>nan</td>\n",
              "      <td>19472</td>\n",
              "      <td>0 days 21:07:19.150078000</td>\n",
              "      <td>76039.15008</td>\n",
              "      <td>18.63125</td>\n",
              "      <td>0.00000</td>\n",
              "      <td>0.00000</td>\n",
              "      <td>0.00000</td>\n",
              "      <td>0.00000</td>\n",
              "      <td>0.00000</td>\n",
              "      <td>0.00000</td>\n",
              "      <td>0.00000</td>\n",
              "      <td>0.00000</td>\n",
              "      <td>0.00000</td>\n",
              "      <td>0.02000</td>\n",
              "      <td>3.32760</td>\n",
              "      <td>0.00000</td>\n",
              "      <td>0.00000</td>\n",
              "      <td>0.30200</td>\n",
              "      <td>0.22800</td>\n",
              "      <td>0.16500</td>\n",
              "      <td>0.23300</td>\n",
              "      <td>0.07200</td>\n",
              "      <td>0.00000</td>\n",
              "      <td>1</td>\n",
              "      <td>0.03333</td>\n",
              "      <td>Pacific Time (US &amp; Canada)</td>\n",
              "      <td>23.86300</td>\n",
              "      <td>0</td>\n",
              "      <td>0</td>\n",
              "      <td>20</td>\n",
              "      <td>1.00000</td>\n",
              "      <td>4217668515</td>\n",
              "      <td>-28800.00000</td>\n",
              "    </tr>\n",
              "  </tbody>\n",
              "</table>\n",
              "<p>5 rows × 145 columns</p>\n",
              "</div>"
            ],
            "text/plain": [
              "   active_tweeting_frequency_per_day  ...   utc_offset\n",
              "0                            0.05500  ... -36000.00000\n",
              "1                          154.33300  ...          nan\n",
              "2                           40.00000  ...  10800.00000\n",
              "3                            0.33400  ... -28800.00000\n",
              "4                            4.49400  ... -28800.00000\n",
              "\n",
              "[5 rows x 145 columns]"
            ]
          },
          "metadata": {
            "tags": []
          },
          "execution_count": 7
        }
      ]
    },
    {
      "cell_type": "code",
      "metadata": {
        "id": "0mJQVkKGmhhp"
      },
      "source": [
        "coded_ids.reset_index(inplace=True)\n",
        "coded_ids.set_index('user_id', inplace=True)\n",
        "features.set_index('user_id', inplace=True)\n",
        "df = features.join(coded_ids)\n",
        "\n",
        "df.reset_index(inplace=True, drop=True)\n",
        "df.set_index('coded_id', inplace=True)\n",
        "df.sort_index(inplace=True)"
      ],
      "execution_count": 8,
      "outputs": []
    },
    {
      "cell_type": "code",
      "metadata": {
        "colab": {
          "base_uri": "https://localhost:8080/",
          "height": 369
        },
        "id": "nbCCMqlxxtO-",
        "outputId": "5031a3b3-595a-42c3-bcc2-e1e8ef847042"
      },
      "source": [
        "df.head()"
      ],
      "execution_count": 9,
      "outputs": [
        {
          "output_type": "execute_result",
          "data": {
            "text/html": [
              "<div>\n",
              "<style scoped>\n",
              "    .dataframe tbody tr th:only-of-type {\n",
              "        vertical-align: middle;\n",
              "    }\n",
              "\n",
              "    .dataframe tbody tr th {\n",
              "        vertical-align: top;\n",
              "    }\n",
              "\n",
              "    .dataframe thead th {\n",
              "        text-align: right;\n",
              "    }\n",
              "</style>\n",
              "<table border=\"1\" class=\"dataframe\">\n",
              "  <thead>\n",
              "    <tr style=\"text-align: right;\">\n",
              "      <th></th>\n",
              "      <th>active_tweeting_frequency_per_day</th>\n",
              "      <th>adjusted_nb_of_uses_of_hashtag</th>\n",
              "      <th>adjusted_nb_of_uses_of_mention</th>\n",
              "      <th>adjusted_nb_of_uses_of_sources</th>\n",
              "      <th>adjusted_nb_of_uses_of_url</th>\n",
              "      <th>age</th>\n",
              "      <th>avg_intertweet_times</th>\n",
              "      <th>avg_intertweet_times_seconds</th>\n",
              "      <th>content_duration_days</th>\n",
              "      <th>date_newest_tweet</th>\n",
              "      <th>date_oldest_tweet</th>\n",
              "      <th>default_profile</th>\n",
              "      <th>default_profile_image</th>\n",
              "      <th>diversity_index_of_hashtags</th>\n",
              "      <th>diversity_index_of_mentions</th>\n",
              "      <th>diversity_index_of_sources</th>\n",
              "      <th>diversity_index_of_urls</th>\n",
              "      <th>favourites_count</th>\n",
              "      <th>followees_per_followers_sq</th>\n",
              "      <th>followers_count</th>\n",
              "      <th>followers_count_minus_2002</th>\n",
              "      <th>followers_per_followees</th>\n",
              "      <th>friends_count</th>\n",
              "      <th>friends_count_minus_2002</th>\n",
              "      <th>hashtags_used_on_average</th>\n",
              "      <th>lang</th>\n",
              "      <th>len_description</th>\n",
              "      <th>len_screen_name</th>\n",
              "      <th>max_intertweet_times</th>\n",
              "      <th>max_intertweet_times_seconds</th>\n",
              "      <th>max_nb_characters_per_tweet</th>\n",
              "      <th>max_nb_favourites_per_tweet</th>\n",
              "      <th>max_nb_hashtags_per_tweet</th>\n",
              "      <th>max_nb_hashtags_per_word_in_the_tweet</th>\n",
              "      <th>max_nb_mentions_per_tweet</th>\n",
              "      <th>max_nb_mentions_per_word_in_the_tweet</th>\n",
              "      <th>max_nb_retweets_per_tweet</th>\n",
              "      <th>max_nb_symbols_per_tweet</th>\n",
              "      <th>max_nb_symbols_per_word_in_the_tweet</th>\n",
              "      <th>max_nb_urls_per_tweet</th>\n",
              "      <th>...</th>\n",
              "      <th>replicates</th>\n",
              "      <th>replicates_top_20</th>\n",
              "      <th>reputation</th>\n",
              "      <th>similarity</th>\n",
              "      <th>similarity_top_20</th>\n",
              "      <th>sources_used_on_average</th>\n",
              "      <th>spam_in_screen_name</th>\n",
              "      <th>statuses_count</th>\n",
              "      <th>std_intertweet_times</th>\n",
              "      <th>std_intertweet_times_seconds</th>\n",
              "      <th>std_nb_characters_per_tweet</th>\n",
              "      <th>std_nb_favourites_per_tweet</th>\n",
              "      <th>std_nb_hashtags_per_tweet</th>\n",
              "      <th>std_nb_hashtags_per_word_in_the_tweet</th>\n",
              "      <th>std_nb_mentions_per_tweet</th>\n",
              "      <th>std_nb_mentions_per_word_in_the_tweet</th>\n",
              "      <th>std_nb_retweets_per_tweet</th>\n",
              "      <th>std_nb_symbols_per_tweet</th>\n",
              "      <th>std_nb_symbols_per_word_in_the_tweet</th>\n",
              "      <th>std_nb_urls_per_tweet</th>\n",
              "      <th>std_nb_urls_per_word_in_the_tweet</th>\n",
              "      <th>std_nb_words_per_tweet</th>\n",
              "      <th>temporal_bin_0</th>\n",
              "      <th>temporal_bin_1</th>\n",
              "      <th>temporal_bin_2</th>\n",
              "      <th>temporal_bin_3</th>\n",
              "      <th>temporal_bin_4</th>\n",
              "      <th>temporal_bin_5</th>\n",
              "      <th>temporal_bin_6</th>\n",
              "      <th>temporal_bin_7</th>\n",
              "      <th>time_since_newest_tweet_days</th>\n",
              "      <th>time_since_newest_tweet_months</th>\n",
              "      <th>time_zone</th>\n",
              "      <th>tweeting_frequency_per_day</th>\n",
              "      <th>tweets_with_at_top_20</th>\n",
              "      <th>tweets_with_hashtags_top_20</th>\n",
              "      <th>tweets_with_urls_top_20</th>\n",
              "      <th>urls_used_on_average</th>\n",
              "      <th>utc_offset</th>\n",
              "      <th>label</th>\n",
              "    </tr>\n",
              "    <tr>\n",
              "      <th>coded_id</th>\n",
              "      <th></th>\n",
              "      <th></th>\n",
              "      <th></th>\n",
              "      <th></th>\n",
              "      <th></th>\n",
              "      <th></th>\n",
              "      <th></th>\n",
              "      <th></th>\n",
              "      <th></th>\n",
              "      <th></th>\n",
              "      <th></th>\n",
              "      <th></th>\n",
              "      <th></th>\n",
              "      <th></th>\n",
              "      <th></th>\n",
              "      <th></th>\n",
              "      <th></th>\n",
              "      <th></th>\n",
              "      <th></th>\n",
              "      <th></th>\n",
              "      <th></th>\n",
              "      <th></th>\n",
              "      <th></th>\n",
              "      <th></th>\n",
              "      <th></th>\n",
              "      <th></th>\n",
              "      <th></th>\n",
              "      <th></th>\n",
              "      <th></th>\n",
              "      <th></th>\n",
              "      <th></th>\n",
              "      <th></th>\n",
              "      <th></th>\n",
              "      <th></th>\n",
              "      <th></th>\n",
              "      <th></th>\n",
              "      <th></th>\n",
              "      <th></th>\n",
              "      <th></th>\n",
              "      <th></th>\n",
              "      <th></th>\n",
              "      <th></th>\n",
              "      <th></th>\n",
              "      <th></th>\n",
              "      <th></th>\n",
              "      <th></th>\n",
              "      <th></th>\n",
              "      <th></th>\n",
              "      <th></th>\n",
              "      <th></th>\n",
              "      <th></th>\n",
              "      <th></th>\n",
              "      <th></th>\n",
              "      <th></th>\n",
              "      <th></th>\n",
              "      <th></th>\n",
              "      <th></th>\n",
              "      <th></th>\n",
              "      <th></th>\n",
              "      <th></th>\n",
              "      <th></th>\n",
              "      <th></th>\n",
              "      <th></th>\n",
              "      <th></th>\n",
              "      <th></th>\n",
              "      <th></th>\n",
              "      <th></th>\n",
              "      <th></th>\n",
              "      <th></th>\n",
              "      <th></th>\n",
              "      <th></th>\n",
              "      <th></th>\n",
              "      <th></th>\n",
              "      <th></th>\n",
              "      <th></th>\n",
              "      <th></th>\n",
              "      <th></th>\n",
              "      <th></th>\n",
              "      <th></th>\n",
              "      <th></th>\n",
              "      <th></th>\n",
              "    </tr>\n",
              "  </thead>\n",
              "  <tbody>\n",
              "    <tr>\n",
              "      <th>1</th>\n",
              "      <td>0.64000</td>\n",
              "      <td>1.00000</td>\n",
              "      <td>2.00000</td>\n",
              "      <td>382.40500</td>\n",
              "      <td>42.35300</td>\n",
              "      <td>2965</td>\n",
              "      <td>1 days 13:38:15.646617000</td>\n",
              "      <td>135496.00000</td>\n",
              "      <td>625</td>\n",
              "      <td>05/11/2017 22:56:37</td>\n",
              "      <td>19/02/2016 05:30:34</td>\n",
              "      <td>True</td>\n",
              "      <td>False</td>\n",
              "      <td>5.00000</td>\n",
              "      <td>1.00000</td>\n",
              "      <td>1.04600</td>\n",
              "      <td>9.42100</td>\n",
              "      <td>0</td>\n",
              "      <td>0.01600</td>\n",
              "      <td>38</td>\n",
              "      <td>-1964</td>\n",
              "      <td>1.65200</td>\n",
              "      <td>23</td>\n",
              "      <td>-1979</td>\n",
              "      <td>1.00000</td>\n",
              "      <td>en</td>\n",
              "      <td>93</td>\n",
              "      <td>11</td>\n",
              "      <td>154 days 02:21:18.000000000</td>\n",
              "      <td>13314078.00000</td>\n",
              "      <td>119</td>\n",
              "      <td>3</td>\n",
              "      <td>3</td>\n",
              "      <td>0.25000</td>\n",
              "      <td>2</td>\n",
              "      <td>0.13300</td>\n",
              "      <td>3</td>\n",
              "      <td>0</td>\n",
              "      <td>0.00000</td>\n",
              "      <td>1</td>\n",
              "      <td>...</td>\n",
              "      <td>7</td>\n",
              "      <td>0.00000</td>\n",
              "      <td>0.62300</td>\n",
              "      <td>0.33700</td>\n",
              "      <td>0.32300</td>\n",
              "      <td>200.00000</td>\n",
              "      <td>nan</td>\n",
              "      <td>660</td>\n",
              "      <td>12 days 03:44:10.929062000</td>\n",
              "      <td>1050250.92906</td>\n",
              "      <td>16.31765</td>\n",
              "      <td>0.30691</td>\n",
              "      <td>0.16536</td>\n",
              "      <td>0.01300</td>\n",
              "      <td>0.09987</td>\n",
              "      <td>0.00700</td>\n",
              "      <td>0.24244</td>\n",
              "      <td>0.00000</td>\n",
              "      <td>0.00000</td>\n",
              "      <td>0.04994</td>\n",
              "      <td>0.02500</td>\n",
              "      <td>3.18094</td>\n",
              "      <td>0.13300</td>\n",
              "      <td>0.18800</td>\n",
              "      <td>0.15200</td>\n",
              "      <td>0.12000</td>\n",
              "      <td>0.13500</td>\n",
              "      <td>0.10700</td>\n",
              "      <td>0.08000</td>\n",
              "      <td>0.08500</td>\n",
              "      <td>97</td>\n",
              "      <td>3.23333</td>\n",
              "      <td>London</td>\n",
              "      <td>0.22300</td>\n",
              "      <td>1</td>\n",
              "      <td>3</td>\n",
              "      <td>19</td>\n",
              "      <td>23.47100</td>\n",
              "      <td>0.00000</td>\n",
              "      <td>1.00000</td>\n",
              "    </tr>\n",
              "    <tr>\n",
              "      <th>2</th>\n",
              "      <td>0.47500</td>\n",
              "      <td>2.60500</td>\n",
              "      <td>2.29200</td>\n",
              "      <td>286.48000</td>\n",
              "      <td>1.32700</td>\n",
              "      <td>1855</td>\n",
              "      <td>2 days 02:38:39.540037000</td>\n",
              "      <td>182320.00000</td>\n",
              "      <td>1133</td>\n",
              "      <td>22/06/2017 02:59:54</td>\n",
              "      <td>15/05/2014 23:00:01</td>\n",
              "      <td>True</td>\n",
              "      <td>False</td>\n",
              "      <td>31.09500</td>\n",
              "      <td>125.67300</td>\n",
              "      <td>1.87800</td>\n",
              "      <td>165.75300</td>\n",
              "      <td>333</td>\n",
              "      <td>0.01000</td>\n",
              "      <td>227</td>\n",
              "      <td>-1775</td>\n",
              "      <td>0.43900</td>\n",
              "      <td>517</td>\n",
              "      <td>-1485</td>\n",
              "      <td>1.42100</td>\n",
              "      <td>ar</td>\n",
              "      <td>46</td>\n",
              "      <td>8</td>\n",
              "      <td>425 days 13:13:05.000000000</td>\n",
              "      <td>36767585.00000</td>\n",
              "      <td>140</td>\n",
              "      <td>2</td>\n",
              "      <td>5</td>\n",
              "      <td>0.20000</td>\n",
              "      <td>4</td>\n",
              "      <td>0.33300</td>\n",
              "      <td>131447</td>\n",
              "      <td>0</td>\n",
              "      <td>0.00000</td>\n",
              "      <td>2</td>\n",
              "      <td>...</td>\n",
              "      <td>34</td>\n",
              "      <td>6.00000</td>\n",
              "      <td>0.30500</td>\n",
              "      <td>0.34900</td>\n",
              "      <td>0.41500</td>\n",
              "      <td>179.33300</td>\n",
              "      <td>nan</td>\n",
              "      <td>2686</td>\n",
              "      <td>18 days 17:25:04.343801000</td>\n",
              "      <td>1617904.34380</td>\n",
              "      <td>31.16566</td>\n",
              "      <td>0.12868</td>\n",
              "      <td>0.49308</td>\n",
              "      <td>0.02500</td>\n",
              "      <td>0.57492</td>\n",
              "      <td>0.04900</td>\n",
              "      <td>9246.87430</td>\n",
              "      <td>0.00000</td>\n",
              "      <td>0.00000</td>\n",
              "      <td>0.49540</td>\n",
              "      <td>0.02900</td>\n",
              "      <td>6.22226</td>\n",
              "      <td>0.15400</td>\n",
              "      <td>0.04300</td>\n",
              "      <td>0.15400</td>\n",
              "      <td>0.19100</td>\n",
              "      <td>0.08600</td>\n",
              "      <td>0.09500</td>\n",
              "      <td>0.12800</td>\n",
              "      <td>0.14900</td>\n",
              "      <td>234</td>\n",
              "      <td>7.80000</td>\n",
              "      <td>NaN</td>\n",
              "      <td>1.44800</td>\n",
              "      <td>7</td>\n",
              "      <td>13</td>\n",
              "      <td>3</td>\n",
              "      <td>1.12800</td>\n",
              "      <td>nan</td>\n",
              "      <td>0.00000</td>\n",
              "    </tr>\n",
              "    <tr>\n",
              "      <th>3</th>\n",
              "      <td>1.80500</td>\n",
              "      <td>13.54300</td>\n",
              "      <td>35.73000</td>\n",
              "      <td>395.00500</td>\n",
              "      <td>1.00000</td>\n",
              "      <td>1846</td>\n",
              "      <td>0 days 13:20:12.744949000</td>\n",
              "      <td>48013.00000</td>\n",
              "      <td>220</td>\n",
              "      <td>10/02/2018 03:11:26</td>\n",
              "      <td>05/07/2017 01:47:19</td>\n",
              "      <td>True</td>\n",
              "      <td>False</td>\n",
              "      <td>19.05100</td>\n",
              "      <td>12.65000</td>\n",
              "      <td>1.00500</td>\n",
              "      <td>29.00000</td>\n",
              "      <td>376</td>\n",
              "      <td>0.00500</td>\n",
              "      <td>270</td>\n",
              "      <td>-1732</td>\n",
              "      <td>0.73800</td>\n",
              "      <td>366</td>\n",
              "      <td>-1636</td>\n",
              "      <td>3.18500</td>\n",
              "      <td>ar</td>\n",
              "      <td>0</td>\n",
              "      <td>8</td>\n",
              "      <td>6 days 22:46:53.000000000</td>\n",
              "      <td>600413.00000</td>\n",
              "      <td>140</td>\n",
              "      <td>1</td>\n",
              "      <td>9</td>\n",
              "      <td>0.36000</td>\n",
              "      <td>4</td>\n",
              "      <td>0.50000</td>\n",
              "      <td>225509</td>\n",
              "      <td>0</td>\n",
              "      <td>0.00000</td>\n",
              "      <td>2</td>\n",
              "      <td>...</td>\n",
              "      <td>27</td>\n",
              "      <td>0.00000</td>\n",
              "      <td>0.42500</td>\n",
              "      <td>0.27600</td>\n",
              "      <td>0.32700</td>\n",
              "      <td>198.50000</td>\n",
              "      <td>nan</td>\n",
              "      <td>19037</td>\n",
              "      <td>1 days 00:21:43.260440000</td>\n",
              "      <td>87703.26044</td>\n",
              "      <td>37.41456</td>\n",
              "      <td>0.05013</td>\n",
              "      <td>1.19226</td>\n",
              "      <td>0.05600</td>\n",
              "      <td>0.46375</td>\n",
              "      <td>0.07600</td>\n",
              "      <td>12009.24349</td>\n",
              "      <td>0.00000</td>\n",
              "      <td>0.00000</td>\n",
              "      <td>0.26972</td>\n",
              "      <td>0.01800</td>\n",
              "      <td>8.05796</td>\n",
              "      <td>0.12300</td>\n",
              "      <td>0.08800</td>\n",
              "      <td>0.10600</td>\n",
              "      <td>0.16100</td>\n",
              "      <td>0.17100</td>\n",
              "      <td>0.13100</td>\n",
              "      <td>0.14600</td>\n",
              "      <td>0.07300</td>\n",
              "      <td>1</td>\n",
              "      <td>0.03333</td>\n",
              "      <td>NaN</td>\n",
              "      <td>10.31300</td>\n",
              "      <td>20</td>\n",
              "      <td>8</td>\n",
              "      <td>0</td>\n",
              "      <td>1.00000</td>\n",
              "      <td>nan</td>\n",
              "      <td>0.00000</td>\n",
              "    </tr>\n",
              "    <tr>\n",
              "      <th>4</th>\n",
              "      <td>0.25900</td>\n",
              "      <td>1.00000</td>\n",
              "      <td>57.47400</td>\n",
              "      <td>62.20000</td>\n",
              "      <td>32.82600</td>\n",
              "      <td>1838</td>\n",
              "      <td>3 days 21:20:06.945652000</td>\n",
              "      <td>336007.00000</td>\n",
              "      <td>715</td>\n",
              "      <td>07/02/2018 09:08:18</td>\n",
              "      <td>22/02/2016 19:27:00</td>\n",
              "      <td>True</td>\n",
              "      <td>False</td>\n",
              "      <td>7.00000</td>\n",
              "      <td>1.32200</td>\n",
              "      <td>2.97400</td>\n",
              "      <td>5.60500</td>\n",
              "      <td>2</td>\n",
              "      <td>0.14000</td>\n",
              "      <td>11</td>\n",
              "      <td>-1991</td>\n",
              "      <td>0.64700</td>\n",
              "      <td>17</td>\n",
              "      <td>-1985</td>\n",
              "      <td>1.00000</td>\n",
              "      <td>en</td>\n",
              "      <td>0</td>\n",
              "      <td>9</td>\n",
              "      <td>237 days 01:36:28.000000000</td>\n",
              "      <td>20482588.00000</td>\n",
              "      <td>141</td>\n",
              "      <td>2</td>\n",
              "      <td>3</td>\n",
              "      <td>0.15000</td>\n",
              "      <td>1</td>\n",
              "      <td>0.12500</td>\n",
              "      <td>1</td>\n",
              "      <td>0</td>\n",
              "      <td>0.00000</td>\n",
              "      <td>2</td>\n",
              "      <td>...</td>\n",
              "      <td>60</td>\n",
              "      <td>1.00000</td>\n",
              "      <td>0.39300</td>\n",
              "      <td>0.32400</td>\n",
              "      <td>0.37800</td>\n",
              "      <td>37.00000</td>\n",
              "      <td>nan</td>\n",
              "      <td>185</td>\n",
              "      <td>19 days 13:07:30.927306000</td>\n",
              "      <td>1688850.92731</td>\n",
              "      <td>24.87683</td>\n",
              "      <td>0.26058</td>\n",
              "      <td>0.28222</td>\n",
              "      <td>0.01300</td>\n",
              "      <td>0.49198</td>\n",
              "      <td>0.03200</td>\n",
              "      <td>0.10341</td>\n",
              "      <td>0.00000</td>\n",
              "      <td>0.00000</td>\n",
              "      <td>0.22050</td>\n",
              "      <td>0.03500</td>\n",
              "      <td>5.51306</td>\n",
              "      <td>0.10800</td>\n",
              "      <td>0.11900</td>\n",
              "      <td>0.10300</td>\n",
              "      <td>0.18400</td>\n",
              "      <td>0.21100</td>\n",
              "      <td>0.05900</td>\n",
              "      <td>0.14600</td>\n",
              "      <td>0.07000</td>\n",
              "      <td>4</td>\n",
              "      <td>0.13333</td>\n",
              "      <td>Amsterdam</td>\n",
              "      <td>0.10100</td>\n",
              "      <td>10</td>\n",
              "      <td>1</td>\n",
              "      <td>20</td>\n",
              "      <td>1.73600</td>\n",
              "      <td>3600.00000</td>\n",
              "      <td>1.00000</td>\n",
              "    </tr>\n",
              "    <tr>\n",
              "      <th>5</th>\n",
              "      <td>1.35000</td>\n",
              "      <td>11.01600</td>\n",
              "      <td>6.48000</td>\n",
              "      <td>210.84400</td>\n",
              "      <td>1.00000</td>\n",
              "      <td>1833</td>\n",
              "      <td>0 days 17:49:13.654040000</td>\n",
              "      <td>64154.00000</td>\n",
              "      <td>294</td>\n",
              "      <td>09/02/2018 16:29:07</td>\n",
              "      <td>21/04/2017 15:35:00</td>\n",
              "      <td>True</td>\n",
              "      <td>False</td>\n",
              "      <td>23.14900</td>\n",
              "      <td>57.56300</td>\n",
              "      <td>1.88300</td>\n",
              "      <td>19.00000</td>\n",
              "      <td>394</td>\n",
              "      <td>0.00000</td>\n",
              "      <td>17741</td>\n",
              "      <td>15739</td>\n",
              "      <td>194.95600</td>\n",
              "      <td>91</td>\n",
              "      <td>-1911</td>\n",
              "      <td>1.74700</td>\n",
              "      <td>ar</td>\n",
              "      <td>85</td>\n",
              "      <td>8</td>\n",
              "      <td>10 days 18:00:15.000000000</td>\n",
              "      <td>928815.00000</td>\n",
              "      <td>140</td>\n",
              "      <td>113</td>\n",
              "      <td>5</td>\n",
              "      <td>0.31200</td>\n",
              "      <td>3</td>\n",
              "      <td>0.40000</td>\n",
              "      <td>228993</td>\n",
              "      <td>0</td>\n",
              "      <td>0.00000</td>\n",
              "      <td>2</td>\n",
              "      <td>...</td>\n",
              "      <td>16</td>\n",
              "      <td>0.00000</td>\n",
              "      <td>0.99500</td>\n",
              "      <td>0.27300</td>\n",
              "      <td>0.28400</td>\n",
              "      <td>198.50000</td>\n",
              "      <td>nan</td>\n",
              "      <td>5870</td>\n",
              "      <td>1 days 04:05:12.883939000</td>\n",
              "      <td>101112.88394</td>\n",
              "      <td>40.82222</td>\n",
              "      <td>9.69623</td>\n",
              "      <td>1.00278</td>\n",
              "      <td>0.06000</td>\n",
              "      <td>0.56904</td>\n",
              "      <td>0.07500</td>\n",
              "      <td>12735.58660</td>\n",
              "      <td>0.00000</td>\n",
              "      <td>0.00000</td>\n",
              "      <td>0.22496</td>\n",
              "      <td>0.01400</td>\n",
              "      <td>7.63798</td>\n",
              "      <td>0.01800</td>\n",
              "      <td>0.05300</td>\n",
              "      <td>0.10100</td>\n",
              "      <td>0.07300</td>\n",
              "      <td>0.05800</td>\n",
              "      <td>0.17100</td>\n",
              "      <td>0.33200</td>\n",
              "      <td>0.19400</td>\n",
              "      <td>1</td>\n",
              "      <td>0.03333</td>\n",
              "      <td>Baghdad</td>\n",
              "      <td>3.20200</td>\n",
              "      <td>18</td>\n",
              "      <td>6</td>\n",
              "      <td>0</td>\n",
              "      <td>1.00000</td>\n",
              "      <td>10800.00000</td>\n",
              "      <td>nan</td>\n",
              "    </tr>\n",
              "  </tbody>\n",
              "</table>\n",
              "<p>5 rows × 145 columns</p>\n",
              "</div>"
            ],
            "text/plain": [
              "          active_tweeting_frequency_per_day  ...   label\n",
              "coded_id                                     ...        \n",
              "1                                   0.64000  ... 1.00000\n",
              "2                                   0.47500  ... 0.00000\n",
              "3                                   1.80500  ... 0.00000\n",
              "4                                   0.25900  ... 1.00000\n",
              "5                                   1.35000  ...     nan\n",
              "\n",
              "[5 rows x 145 columns]"
            ]
          },
          "metadata": {
            "tags": []
          },
          "execution_count": 9
        }
      ]
    },
    {
      "cell_type": "markdown",
      "metadata": {
        "id": "XQvOpdXN-Eo2"
      },
      "source": [
        "All the features in the dataset"
      ]
    },
    {
      "cell_type": "code",
      "metadata": {
        "colab": {
          "base_uri": "https://localhost:8080/"
        },
        "id": "Zr5MLe4E2WkS",
        "outputId": "f833a6e8-ccd6-46e7-a62b-1997f45540dc"
      },
      "source": [
        "df.info(verbose=True)"
      ],
      "execution_count": 10,
      "outputs": [
        {
          "output_type": "stream",
          "text": [
            "<class 'pandas.core.frame.DataFrame'>\n",
            "Int64Index: 767 entries, 1 to 767\n",
            "Data columns (total 145 columns):\n",
            " #   Column                                    Dtype  \n",
            "---  ------                                    -----  \n",
            " 0   active_tweeting_frequency_per_day         float64\n",
            " 1   adjusted_nb_of_uses_of_hashtag            float64\n",
            " 2   adjusted_nb_of_uses_of_mention            float64\n",
            " 3   adjusted_nb_of_uses_of_sources            float64\n",
            " 4   adjusted_nb_of_uses_of_url                float64\n",
            " 5   age                                       int64  \n",
            " 6   avg_intertweet_times                      object \n",
            " 7   avg_intertweet_times_seconds              float64\n",
            " 8   content_duration_days                     int64  \n",
            " 9   date_newest_tweet                         object \n",
            " 10  date_oldest_tweet                         object \n",
            " 11  default_profile                           bool   \n",
            " 12  default_profile_image                     bool   \n",
            " 13  diversity_index_of_hashtags               float64\n",
            " 14  diversity_index_of_mentions               float64\n",
            " 15  diversity_index_of_sources                float64\n",
            " 16  diversity_index_of_urls                   float64\n",
            " 17  favourites_count                          int64  \n",
            " 18  followees_per_followers_sq                float64\n",
            " 19  followers_count                           int64  \n",
            " 20  followers_count_minus_2002                int64  \n",
            " 21  followers_per_followees                   float64\n",
            " 22  friends_count                             int64  \n",
            " 23  friends_count_minus_2002                  int64  \n",
            " 24  hashtags_used_on_average                  float64\n",
            " 25  lang                                      object \n",
            " 26  len_description                           int64  \n",
            " 27  len_screen_name                           int64  \n",
            " 28  max_intertweet_times                      object \n",
            " 29  max_intertweet_times_seconds              float64\n",
            " 30  max_nb_characters_per_tweet               int64  \n",
            " 31  max_nb_favourites_per_tweet               int64  \n",
            " 32  max_nb_hashtags_per_tweet                 int64  \n",
            " 33  max_nb_hashtags_per_word_in_the_tweet     float64\n",
            " 34  max_nb_mentions_per_tweet                 int64  \n",
            " 35  max_nb_mentions_per_word_in_the_tweet     float64\n",
            " 36  max_nb_retweets_per_tweet                 int64  \n",
            " 37  max_nb_symbols_per_tweet                  int64  \n",
            " 38  max_nb_symbols_per_word_in_the_tweet      float64\n",
            " 39  max_nb_urls_per_tweet                     int64  \n",
            " 40  max_nb_urls_per_word_in_the_tweet         float64\n",
            " 41  max_nb_words_per_tweet                    int64  \n",
            " 42  mean_nb_characters_per_tweet              float64\n",
            " 43  mean_nb_favourites_per_tweet              float64\n",
            " 44  mean_nb_hashtags_per_tweet                float64\n",
            " 45  mean_nb_hashtags_per_word_in_the_tweet    float64\n",
            " 46  mean_nb_mentions_per_tweet                float64\n",
            " 47  mean_nb_mentions_per_word_in_the_tweet    float64\n",
            " 48  mean_nb_retweets_per_tweet                float64\n",
            " 49  mean_nb_symbols_per_tweet                 float64\n",
            " 50  mean_nb_symbols_per_word_in_the_tweet     float64\n",
            " 51  mean_nb_urls_per_tweet                    float64\n",
            " 52  mean_nb_urls_per_word_in_the_tweet        float64\n",
            " 53  mean_nb_words_per_tweet                   float64\n",
            " 54  median_nb_characters_per_tweet            float64\n",
            " 55  median_nb_favourites_per_tweet            float64\n",
            " 56  median_nb_hashtags_per_tweet              float64\n",
            " 57  median_nb_hashtags_per_word_in_the_tweet  float64\n",
            " 58  median_nb_mentions_per_tweet              float64\n",
            " 59  median_nb_mentions_per_word_in_the_tweet  float64\n",
            " 60  median_nb_retweets_per_tweet              float64\n",
            " 61  median_nb_symbols_per_tweet               float64\n",
            " 62  median_nb_symbols_per_word_in_the_tweet   float64\n",
            " 63  median_nb_urls_per_tweet                  float64\n",
            " 64  median_nb_urls_per_word_in_the_tweet      float64\n",
            " 65  median_nb_words_per_tweet                 float64\n",
            " 66  mentions_used_on_average                  float64\n",
            " 67  min_intertweet_times                      object \n",
            " 68  min_intertweet_times_seconds              float64\n",
            " 69  min_nb_characters_per_tweet               int64  \n",
            " 70  min_nb_favourites_per_tweet               int64  \n",
            " 71  min_nb_hashtags_per_tweet                 int64  \n",
            " 72  min_nb_hashtags_per_word_in_the_tweet     float64\n",
            " 73  min_nb_mentions_per_tweet                 int64  \n",
            " 74  min_nb_mentions_per_word_in_the_tweet     float64\n",
            " 75  min_nb_retweets_per_tweet                 int64  \n",
            " 76  min_nb_symbols_per_tweet                  int64  \n",
            " 77  min_nb_symbols_per_word_in_the_tweet      float64\n",
            " 78  min_nb_urls_per_tweet                     int64  \n",
            " 79  min_nb_urls_per_word_in_the_tweet         float64\n",
            " 80  min_nb_words_per_tweet                    int64  \n",
            " 81  nb_collected_tweets                       int64  \n",
            " 82  nb_followees_per_day                      float64\n",
            " 83  nb_followers_per_day                      float64\n",
            " 84  nb_hashtags                               int64  \n",
            " 85  nb_hashtags_per_day                       float64\n",
            " 86  nb_lists                                  int64  \n",
            " 87  nb_mentions                               int64  \n",
            " 88  nb_mentions_per_day                       float64\n",
            " 89  nb_unique_hashtags                        int64  \n",
            " 90  nb_unique_mentions                        int64  \n",
            " 91  nb_unique_sources                         int64  \n",
            " 92  nb_unique_urls                            int64  \n",
            " 93  nb_urls                                   int64  \n",
            " 94  nb_urls_per_day                           float64\n",
            " 95  numerals_in_screen_name                   int64  \n",
            " 96  numerals_ratio_in_screen_name             float64\n",
            " 97  portion_of_tweets_with_hashtags           float64\n",
            " 98  portion_of_tweets_with_medias             float64\n",
            " 99  portion_of_tweets_with_mentions           float64\n",
            " 100 portion_of_tweets_with_symbols            float64\n",
            " 101 portion_of_tweets_with_urls               float64\n",
            " 102 proportion_original                       float64\n",
            " 103 proportion_replies                        float64\n",
            " 104 proportion_retweets                       float64\n",
            " 105 replicates                                int64  \n",
            " 106 replicates_top_20                         float64\n",
            " 107 reputation                                float64\n",
            " 108 similarity                                float64\n",
            " 109 similarity_top_20                         float64\n",
            " 110 sources_used_on_average                   float64\n",
            " 111 spam_in_screen_name                       float64\n",
            " 112 statuses_count                            int64  \n",
            " 113 std_intertweet_times                      object \n",
            " 114 std_intertweet_times_seconds              float64\n",
            " 115 std_nb_characters_per_tweet               float64\n",
            " 116 std_nb_favourites_per_tweet               float64\n",
            " 117 std_nb_hashtags_per_tweet                 float64\n",
            " 118 std_nb_hashtags_per_word_in_the_tweet     float64\n",
            " 119 std_nb_mentions_per_tweet                 float64\n",
            " 120 std_nb_mentions_per_word_in_the_tweet     float64\n",
            " 121 std_nb_retweets_per_tweet                 float64\n",
            " 122 std_nb_symbols_per_tweet                  float64\n",
            " 123 std_nb_symbols_per_word_in_the_tweet      float64\n",
            " 124 std_nb_urls_per_tweet                     float64\n",
            " 125 std_nb_urls_per_word_in_the_tweet         float64\n",
            " 126 std_nb_words_per_tweet                    float64\n",
            " 127 temporal_bin_0                            float64\n",
            " 128 temporal_bin_1                            float64\n",
            " 129 temporal_bin_2                            float64\n",
            " 130 temporal_bin_3                            float64\n",
            " 131 temporal_bin_4                            float64\n",
            " 132 temporal_bin_5                            float64\n",
            " 133 temporal_bin_6                            float64\n",
            " 134 temporal_bin_7                            float64\n",
            " 135 time_since_newest_tweet_days              int64  \n",
            " 136 time_since_newest_tweet_months            float64\n",
            " 137 time_zone                                 object \n",
            " 138 tweeting_frequency_per_day                float64\n",
            " 139 tweets_with_at_top_20                     int64  \n",
            " 140 tweets_with_hashtags_top_20               int64  \n",
            " 141 tweets_with_urls_top_20                   int64  \n",
            " 142 urls_used_on_average                      float64\n",
            " 143 utc_offset                                float64\n",
            " 144 label                                     float64\n",
            "dtypes: bool(2), float64(94), int64(41), object(8)\n",
            "memory usage: 864.4+ KB\n"
          ],
          "name": "stdout"
        }
      ]
    },
    {
      "cell_type": "code",
      "metadata": {
        "colab": {
          "base_uri": "https://localhost:8080/",
          "height": 450
        },
        "id": "EaGsE-zv_4Bq",
        "outputId": "35d0e365-bad3-4842-daa5-472eea627fb9"
      },
      "source": [
        "df[['followers_count', 'followers_count_minus_2002', 'friends_count','friends_count_minus_2002','label']]"
      ],
      "execution_count": 11,
      "outputs": [
        {
          "output_type": "execute_result",
          "data": {
            "text/html": [
              "<div>\n",
              "<style scoped>\n",
              "    .dataframe tbody tr th:only-of-type {\n",
              "        vertical-align: middle;\n",
              "    }\n",
              "\n",
              "    .dataframe tbody tr th {\n",
              "        vertical-align: top;\n",
              "    }\n",
              "\n",
              "    .dataframe thead th {\n",
              "        text-align: right;\n",
              "    }\n",
              "</style>\n",
              "<table border=\"1\" class=\"dataframe\">\n",
              "  <thead>\n",
              "    <tr style=\"text-align: right;\">\n",
              "      <th></th>\n",
              "      <th>followers_count</th>\n",
              "      <th>followers_count_minus_2002</th>\n",
              "      <th>friends_count</th>\n",
              "      <th>friends_count_minus_2002</th>\n",
              "      <th>label</th>\n",
              "    </tr>\n",
              "    <tr>\n",
              "      <th>coded_id</th>\n",
              "      <th></th>\n",
              "      <th></th>\n",
              "      <th></th>\n",
              "      <th></th>\n",
              "      <th></th>\n",
              "    </tr>\n",
              "  </thead>\n",
              "  <tbody>\n",
              "    <tr>\n",
              "      <th>1</th>\n",
              "      <td>38</td>\n",
              "      <td>-1964</td>\n",
              "      <td>23</td>\n",
              "      <td>-1979</td>\n",
              "      <td>1.00000</td>\n",
              "    </tr>\n",
              "    <tr>\n",
              "      <th>2</th>\n",
              "      <td>227</td>\n",
              "      <td>-1775</td>\n",
              "      <td>517</td>\n",
              "      <td>-1485</td>\n",
              "      <td>0.00000</td>\n",
              "    </tr>\n",
              "    <tr>\n",
              "      <th>3</th>\n",
              "      <td>270</td>\n",
              "      <td>-1732</td>\n",
              "      <td>366</td>\n",
              "      <td>-1636</td>\n",
              "      <td>0.00000</td>\n",
              "    </tr>\n",
              "    <tr>\n",
              "      <th>4</th>\n",
              "      <td>11</td>\n",
              "      <td>-1991</td>\n",
              "      <td>17</td>\n",
              "      <td>-1985</td>\n",
              "      <td>1.00000</td>\n",
              "    </tr>\n",
              "    <tr>\n",
              "      <th>5</th>\n",
              "      <td>17741</td>\n",
              "      <td>15739</td>\n",
              "      <td>91</td>\n",
              "      <td>-1911</td>\n",
              "      <td>nan</td>\n",
              "    </tr>\n",
              "    <tr>\n",
              "      <th>...</th>\n",
              "      <td>...</td>\n",
              "      <td>...</td>\n",
              "      <td>...</td>\n",
              "      <td>...</td>\n",
              "      <td>...</td>\n",
              "    </tr>\n",
              "    <tr>\n",
              "      <th>763</th>\n",
              "      <td>3289</td>\n",
              "      <td>1287</td>\n",
              "      <td>1570</td>\n",
              "      <td>-432</td>\n",
              "      <td>0.00000</td>\n",
              "    </tr>\n",
              "    <tr>\n",
              "      <th>764</th>\n",
              "      <td>35400</td>\n",
              "      <td>33398</td>\n",
              "      <td>846</td>\n",
              "      <td>-1156</td>\n",
              "      <td>0.00000</td>\n",
              "    </tr>\n",
              "    <tr>\n",
              "      <th>765</th>\n",
              "      <td>58551</td>\n",
              "      <td>56549</td>\n",
              "      <td>3097</td>\n",
              "      <td>1095</td>\n",
              "      <td>0.00000</td>\n",
              "    </tr>\n",
              "    <tr>\n",
              "      <th>766</th>\n",
              "      <td>18927</td>\n",
              "      <td>16925</td>\n",
              "      <td>9677</td>\n",
              "      <td>7675</td>\n",
              "      <td>0.00000</td>\n",
              "    </tr>\n",
              "    <tr>\n",
              "      <th>767</th>\n",
              "      <td>4520</td>\n",
              "      <td>2518</td>\n",
              "      <td>701</td>\n",
              "      <td>-1301</td>\n",
              "      <td>0.00000</td>\n",
              "    </tr>\n",
              "  </tbody>\n",
              "</table>\n",
              "<p>767 rows × 5 columns</p>\n",
              "</div>"
            ],
            "text/plain": [
              "          followers_count  ...   label\n",
              "coded_id                   ...        \n",
              "1                      38  ... 1.00000\n",
              "2                     227  ... 0.00000\n",
              "3                     270  ... 0.00000\n",
              "4                      11  ... 1.00000\n",
              "5                   17741  ...     nan\n",
              "...                   ...  ...     ...\n",
              "763                  3289  ... 0.00000\n",
              "764                 35400  ... 0.00000\n",
              "765                 58551  ... 0.00000\n",
              "766                 18927  ... 0.00000\n",
              "767                  4520  ... 0.00000\n",
              "\n",
              "[767 rows x 5 columns]"
            ]
          },
          "metadata": {
            "tags": []
          },
          "execution_count": 11
        }
      ]
    },
    {
      "cell_type": "markdown",
      "metadata": {
        "id": "RjQbZLJX-mCs"
      },
      "source": [
        "Encoding the categorical features"
      ]
    },
    {
      "cell_type": "code",
      "metadata": {
        "id": "P0wQTEFV42tO"
      },
      "source": [
        "encoder = LabelEncoder()\n",
        "df['lang'] = encoder.fit_transform(df.lang)\n",
        "df['time_zone'] = encoder.fit_transform(df.time_zone.astype(str))"
      ],
      "execution_count": 12,
      "outputs": []
    },
    {
      "cell_type": "markdown",
      "metadata": {
        "id": "pPpJUhVf-yCf"
      },
      "source": [
        "Transforming the datetime features to timestamp"
      ]
    },
    {
      "cell_type": "code",
      "metadata": {
        "id": "P0wqY8pX0y8Z"
      },
      "source": [
        "df['date_newest_tweet'] = pd.to_datetime(df['date_newest_tweet']).astype('int64') // 10 ** 9\n",
        "df['date_oldest_tweet'] = pd.to_datetime(df['date_oldest_tweet']).astype('int64') // 10 ** 9"
      ],
      "execution_count": 13,
      "outputs": []
    },
    {
      "cell_type": "markdown",
      "metadata": {
        "id": "pZP33Yr0-KSe"
      },
      "source": [
        "Removing unnecessary columns from the dataframe"
      ]
    },
    {
      "cell_type": "code",
      "metadata": {
        "id": "t9m7UAEUyHYm"
      },
      "source": [
        "cols_to_remove = ['avg_intertweet_times',\n",
        "                  'max_intertweet_times',\n",
        "                  'min_intertweet_times',\n",
        "                  'std_intertweet_times',\n",
        "                  'followers_count_minus_2002',\n",
        "                  'friends_count_minus_2002',\n",
        "                  'spam_in_screen_name']\n",
        "\n",
        "df.drop(cols_to_remove, axis=1, inplace=True)"
      ],
      "execution_count": 14,
      "outputs": []
    },
    {
      "cell_type": "markdown",
      "metadata": {
        "id": "CL-YWO3D-67i"
      },
      "source": [
        "Comparing correlation of the intertweet time features with different statistical functions with the label"
      ]
    },
    {
      "cell_type": "code",
      "metadata": {
        "colab": {
          "base_uri": "https://localhost:8080/",
          "height": 299
        },
        "id": "NYsS5bAfpVFJ",
        "outputId": "c99aa253-83f4-4875-a326-ff43f9795d33"
      },
      "source": [
        "df.corr().loc['label', ['avg_intertweet_times_seconds','max_intertweet_times_seconds','min_intertweet_times_seconds','std_intertweet_times_seconds']].plot.barh()"
      ],
      "execution_count": 15,
      "outputs": [
        {
          "output_type": "execute_result",
          "data": {
            "text/plain": [
              "<matplotlib.axes._subplots.AxesSubplot at 0x7fa5985a87f0>"
            ]
          },
          "metadata": {
            "tags": []
          },
          "execution_count": 15
        },
        {
          "output_type": "display_data",
          "data": {
            "image/png": "[encoded data removed]",
            "text/plain": [
              "<Figure size 432x288 with 1 Axes>"
            ]
          },
          "metadata": {
            "tags": []
          }
        }
      ]
    },
    {
      "cell_type": "markdown",
      "metadata": {
        "id": "U4K1WBNI_JQm"
      },
      "source": [
        "Plotting correlations of other categorical features with the label"
      ]
    },
    {
      "cell_type": "code",
      "metadata": {
        "colab": {
          "base_uri": "https://localhost:8080/",
          "height": 299
        },
        "id": "YpkV9WTc1Hba",
        "outputId": "f45f6b36-0f08-4926-f3d4-7d6eeed6e346"
      },
      "source": [
        "df.corr().loc['label', ['default_profile', 'default_profile_image', 'lang', 'time_zone']].plot.barh()"
      ],
      "execution_count": 16,
      "outputs": [
        {
          "output_type": "execute_result",
          "data": {
            "text/plain": [
              "<matplotlib.axes._subplots.AxesSubplot at 0x7fa5984f6518>"
            ]
          },
          "metadata": {
            "tags": []
          },
          "execution_count": 16
        },
        {
          "output_type": "display_data",
          "data": {
            "image/png": "[encoded data removed]",
            "text/plain": [
              "<Figure size 432x288 with 1 Axes>"
            ]
          },
          "metadata": {
            "tags": []
          }
        }
      ]
    },
    {
      "cell_type": "markdown",
      "metadata": {
        "id": "9KSmil1iBElZ"
      },
      "source": [
        "Plotting correlations of timestamp features with the label"
      ]
    },
    {
      "cell_type": "code",
      "metadata": {
        "colab": {
          "base_uri": "https://localhost:8080/",
          "height": 299
        },
        "id": "Cj8F7mKB_EZz",
        "outputId": "d86113d9-15c0-4bd1-f935-2f4cf9948405"
      },
      "source": [
        "df.corr().loc['label', ['date_newest_tweet', 'date_oldest_tweet', 'utc_offset']].plot.barh()"
      ],
      "execution_count": 17,
      "outputs": [
        {
          "output_type": "execute_result",
          "data": {
            "text/plain": [
              "<matplotlib.axes._subplots.AxesSubplot at 0x7fa5980252b0>"
            ]
          },
          "metadata": {
            "tags": []
          },
          "execution_count": 17
        },
        {
          "output_type": "display_data",
          "data": {
            "image/png": "[encoded data removed]",
            "text/plain": [
              "<Figure size 432x288 with 1 Axes>"
            ]
          },
          "metadata": {
            "tags": []
          }
        }
      ]
    },
    {
      "cell_type": "code",
      "metadata": {
        "colab": {
          "base_uri": "https://localhost:8080/"
        },
        "id": "bWPHdzYB5lcu",
        "outputId": "5fe1ebe3-5020-456e-dc5f-89fa4fe75112"
      },
      "source": [
        "df.corr().label"
      ],
      "execution_count": 18,
      "outputs": [
        {
          "output_type": "execute_result",
          "data": {
            "text/plain": [
              "active_tweeting_frequency_per_day    0.14111\n",
              "adjusted_nb_of_uses_of_hashtag       0.21373\n",
              "adjusted_nb_of_uses_of_mention       0.31592\n",
              "adjusted_nb_of_uses_of_sources       0.37647\n",
              "adjusted_nb_of_uses_of_url           0.26377\n",
              "                                      ...   \n",
              "tweets_with_hashtags_top_20          0.02210\n",
              "tweets_with_urls_top_20              0.32871\n",
              "urls_used_on_average                 0.18033\n",
              "utc_offset                          -0.19953\n",
              "label                                1.00000\n",
              "Name: label, Length: 138, dtype: float64"
            ]
          },
          "metadata": {
            "tags": []
          },
          "execution_count": 18
        }
      ]
    },
    {
      "cell_type": "code",
      "metadata": {
        "colab": {
          "base_uri": "https://localhost:8080/"
        },
        "id": "i72-HCWW5er7",
        "outputId": "af272e0e-fb99-4ffe-bc7d-2d1939839f89"
      },
      "source": [
        "df.corr()[df.corr().label.abs() > 0.2].label"
      ],
      "execution_count": 19,
      "outputs": [
        {
          "output_type": "execute_result",
          "data": {
            "text/plain": [
              "adjusted_nb_of_uses_of_hashtag    0.21373\n",
              "adjusted_nb_of_uses_of_mention    0.31592\n",
              "adjusted_nb_of_uses_of_sources    0.37647\n",
              "adjusted_nb_of_uses_of_url        0.26377\n",
              "age                              -0.46032\n",
              "                                   ...   \n",
              "time_zone                         0.30792\n",
              "tweeting_frequency_per_day        0.25224\n",
              "tweets_with_at_top_20            -0.34716\n",
              "tweets_with_urls_top_20           0.32871\n",
              "label                             1.00000\n",
              "Name: label, Length: 66, dtype: float64"
            ]
          },
          "metadata": {
            "tags": []
          },
          "execution_count": 19
        }
      ]
    },
    {
      "cell_type": "markdown",
      "metadata": {
        "id": "PEyacVtYBSPr"
      },
      "source": [
        "Making 2 groups of feature groups based on correlation with the label"
      ]
    },
    {
      "cell_type": "code",
      "metadata": {
        "id": "WJ0_LG4x51Hr"
      },
      "source": [
        "feature_group_1 = df.corr()[df.corr().label.abs() > 0.2].label.index.values\n",
        "feature_group_2 = df.corr()[df.corr().label.abs() > 0.3].label.index.values"
      ],
      "execution_count": 20,
      "outputs": []
    },
    {
      "cell_type": "code",
      "metadata": {
        "colab": {
          "base_uri": "https://localhost:8080/"
        },
        "id": "ZTZcXHQKodpM",
        "outputId": "00d18c1d-fccd-4883-fd8c-01fd85aa33d3"
      },
      "source": [
        "df.utc_offset.isnull().value_counts()"
      ],
      "execution_count": 21,
      "outputs": [
        {
          "output_type": "execute_result",
          "data": {
            "text/plain": [
              "False    582\n",
              "True     185\n",
              "Name: utc_offset, dtype: int64"
            ]
          },
          "metadata": {
            "tags": []
          },
          "execution_count": 21
        }
      ]
    },
    {
      "cell_type": "code",
      "metadata": {
        "colab": {
          "base_uri": "https://localhost:8080/"
        },
        "id": "Dd0FxSuxnfq3",
        "outputId": "8afb33ea-1d40-44f1-d3e1-e2c27aac8017"
      },
      "source": [
        "df[df.label == 0].utc_offset.value_counts()"
      ],
      "execution_count": 22,
      "outputs": [
        {
          "output_type": "execute_result",
          "data": {
            "text/plain": [
              "-14400.00000    87\n",
              "10800.00000     69\n",
              "-18000.00000    66\n",
              "-25200.00000    63\n",
              "7200.00000      51\n",
              "3600.00000      43\n",
              "-21600.00000    15\n",
              "32400.00000     15\n",
              "-10800.00000    15\n",
              "39600.00000     11\n",
              "-7200.00000      7\n",
              "-36000.00000     7\n",
              "19800.00000      6\n",
              "-28800.00000     6\n",
              "25200.00000      5\n",
              "36000.00000      3\n",
              "28800.00000      3\n",
              "12600.00000      2\n",
              "18000.00000      2\n",
              "46800.00000      1\n",
              "14400.00000      1\n",
              "0.00000          1\n",
              "-39600.00000     1\n",
              "Name: utc_offset, dtype: int64"
            ]
          },
          "metadata": {
            "tags": []
          },
          "execution_count": 22
        }
      ]
    },
    {
      "cell_type": "code",
      "metadata": {
        "colab": {
          "base_uri": "https://localhost:8080/"
        },
        "id": "WnoSzIvHoUMu",
        "outputId": "74e35524-6aa8-42b6-be85-f991e96594c9"
      },
      "source": [
        "df[df.label == 1].utc_offset.value_counts()"
      ],
      "execution_count": 23,
      "outputs": [
        {
          "output_type": "execute_result",
          "data": {
            "text/plain": [
              "-28800.00000    15\n",
              "10800.00000      4\n",
              "-21600.00000     4\n",
              "-18000.00000     3\n",
              "-32400.00000     2\n",
              "-25200.00000     2\n",
              "3600.00000       2\n",
              "-39600.00000     1\n",
              "-36000.00000     1\n",
              "7200.00000       1\n",
              "14400.00000      1\n",
              "-14400.00000     1\n",
              "0.00000          1\n",
              "Name: utc_offset, dtype: int64"
            ]
          },
          "metadata": {
            "tags": []
          },
          "execution_count": 23
        }
      ]
    },
    {
      "cell_type": "markdown",
      "metadata": {
        "id": "VWlHfO6SBjSA"
      },
      "source": [
        "Filling null values in the utc_offset with 0"
      ]
    },
    {
      "cell_type": "code",
      "metadata": {
        "id": "IDPYC5G_nPCq"
      },
      "source": [
        "df['utc_offset'] = df['utc_offset'].fillna(0)"
      ],
      "execution_count": 24,
      "outputs": []
    },
    {
      "cell_type": "markdown",
      "metadata": {
        "id": "f_5Ie-8UBsbe"
      },
      "source": [
        "Training a Decision Tree Classifier on three different feature groups\n",
        "1. All features\n",
        "2. Features with correlation more of the 0.2 with the label\n",
        "3. Features with correlation more of the 0.3 with the label"
      ]
    },
    {
      "cell_type": "code",
      "metadata": {
        "id": "wuZ62xxh8wYN"
      },
      "source": [
        "train_scores = []\n",
        "val_scores = []\n",
        "feat_imp = []\n",
        "\n",
        "for columns in [df.columns, feature_group_1, feature_group_2]:\n",
        "\n",
        "    train = df[columns][df.label.notnull()].copy()\n",
        "    train, val = train_test_split(train, test_size=86, random_state=101)\n",
        "\n",
        "    X_train, y_train = train.drop('label', axis=1), train['label']\n",
        "    X_val, y_val = val.drop('label', axis=1), val['label']\n",
        "\n",
        "    model = DecisionTreeClassifier()\n",
        "    model.fit(X_train, y_train)\n",
        "    feat_imp.append(model.feature_importances_)\n",
        "    train_scores.append(model.score(X_train, y_train))\n",
        "    val_scores.append(model.score(X_val, y_val))"
      ],
      "execution_count": 64,
      "outputs": []
    },
    {
      "cell_type": "code",
      "metadata": {
        "colab": {
          "base_uri": "https://localhost:8080/"
        },
        "id": "aSqJeSkWv7kw",
        "outputId": "0767cfe3-cb36-4acb-dfd7-6e4feb8554d0"
      },
      "source": [
        "print(train_scores)\n",
        "print(val_scores)"
      ],
      "execution_count": 65,
      "outputs": [
        {
          "output_type": "stream",
          "text": [
            "[1.0, 1.0, 1.0]\n",
            "[0.9418604651162791, 0.9534883720930233, 0.9651162790697675]\n"
          ],
          "name": "stdout"
        }
      ]
    },
    {
      "cell_type": "code",
      "metadata": {
        "id": "hygEVpN87Swc"
      },
      "source": [
        "feat_imp = pd.DataFrame(feat_imp).T\n",
        "feat_imp.set_index(df.columns[:-1], inplace=True)"
      ],
      "execution_count": 66,
      "outputs": []
    },
    {
      "cell_type": "markdown",
      "metadata": {
        "id": "EfVXt38YCGzQ"
      },
      "source": [
        "Plotting feature importance scores for different feature groups based on the Decision Tree Classifier"
      ]
    },
    {
      "cell_type": "code",
      "metadata": {
        "colab": {
          "base_uri": "https://localhost:8080/",
          "height": 299
        },
        "id": "1vZY8HnB2BXZ",
        "outputId": "d4b935bb-61c0-4075-8cb3-17aa1509c74b"
      },
      "source": [
        "fig, ax = plt.subplots()\n",
        "feat_imp[0].sort_values(ascending=False)[:10].plot.barh(ax=ax)"
      ],
      "execution_count": 68,
      "outputs": [
        {
          "output_type": "execute_result",
          "data": {
            "text/plain": [
              "<matplotlib.axes._subplots.AxesSubplot at 0x7fa597332b00>"
            ]
          },
          "metadata": {
            "tags": []
          },
          "execution_count": 68
        },
        {
          "output_type": "display_data",
          "data": {
            "image/png": "[encoded data removed]",
            "text/plain": [
              "<Figure size 432x288 with 1 Axes>"
            ]
          },
          "metadata": {
            "tags": []
          }
        }
      ]
    },
    {
      "cell_type": "code",
      "metadata": {
        "colab": {
          "base_uri": "https://localhost:8080/",
          "height": 299
        },
        "id": "q7zVzHYZ6R1W",
        "outputId": "4e1a3953-7800-4618-e120-249051487b38"
      },
      "source": [
        "fig, ax = plt.subplots()\n",
        "feat_imp[1].sort_values(ascending=False)[:10].plot.barh(ax=ax)"
      ],
      "execution_count": 69,
      "outputs": [
        {
          "output_type": "execute_result",
          "data": {
            "text/plain": [
              "<matplotlib.axes._subplots.AxesSubplot at 0x7fa593b92978>"
            ]
          },
          "metadata": {
            "tags": []
          },
          "execution_count": 69
        },
        {
          "output_type": "display_data",
          "data": {
            "image/png": "[encoded data removed]",
            "text/plain": [
              "<Figure size 432x288 with 1 Axes>"
            ]
          },
          "metadata": {
            "tags": []
          }
        }
      ]
    },
    {
      "cell_type": "code",
      "metadata": {
        "colab": {
          "base_uri": "https://localhost:8080/",
          "height": 299
        },
        "id": "_UmRxhOj9DRa",
        "outputId": "581d51f1-9713-4ddd-b235-b4022260d90f"
      },
      "source": [
        "fig, ax = plt.subplots()\n",
        "feat_imp[2].sort_values(ascending=False)[:10].plot.barh(ax=ax)"
      ],
      "execution_count": 70,
      "outputs": [
        {
          "output_type": "execute_result",
          "data": {
            "text/plain": [
              "<matplotlib.axes._subplots.AxesSubplot at 0x7fa593b11390>"
            ]
          },
          "metadata": {
            "tags": []
          },
          "execution_count": 70
        },
        {
          "output_type": "display_data",
          "data": {
            "image/png": "[encoded data removed]",
            "text/plain": [
              "<Figure size 432x288 with 1 Axes>"
            ]
          },
          "metadata": {
            "tags": []
          }
        }
      ]
    },
    {
      "cell_type": "code",
      "metadata": {
        "id": "B6bfk0na9ElW"
      },
      "source": [
        ""
      ],
      "execution_count": null,
      "outputs": []
    }
  ]
}